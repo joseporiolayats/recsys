{
 "cells": [
  {
   "cell_type": "markdown",
   "source": [
    "This notebook is heavily inspired by the examples found in the Transformers4Rec github repo from NVIDIA, [here](https://github.com/NVIDIA-Merlin/Transformers4Rec/blob/main/examples/)."
   ],
   "metadata": {
    "collapsed": false
   }
  },
  {
   "cell_type": "markdown",
   "source": [
    "## Check CUDA is working"
   ],
   "metadata": {
    "collapsed": false
   }
  },
  {
   "cell_type": "code",
   "execution_count": 1,
   "metadata": {
    "collapsed": true
   },
   "outputs": [
    {
     "name": "stdout",
     "output_type": "stream",
     "text": [
      "The main device is cuda\n"
     ]
    }
   ],
   "source": [
    "import torch\n",
    "\n",
    "device = \"cuda\" if torch.cuda.is_available() else \"cpu\"\n",
    "# device=\"cpu\"\n",
    "\n",
    "print(f'The main device is {device}')\n"
   ]
  },
  {
   "cell_type": "code",
   "execution_count": 2,
   "outputs": [],
   "source": [
    "import os\n",
    "import glob\n",
    "\n",
    "import numpy as np\n",
    "import pandas as pd\n",
    "\n",
    "import nvtabular as nvt\n",
    "from nvtabular.ops import *\n",
    "from merlin.schema.tags import Tags"
   ],
   "metadata": {
    "collapsed": false
   }
  },
  {
   "cell_type": "code",
   "execution_count": 3,
   "outputs": [
    {
     "name": "stdout",
     "output_type": "stream",
     "text": [
      "Root dir is /home/noone/Projects/recsys\n"
     ]
    }
   ],
   "source": [
    "if os.getcwd().split(\"/\")[-1] == \"notebooks\":\n",
    "    os.chdir(\"..\")\n",
    "root_dir = os.getcwd()\n",
    "\n",
    "print(f'Root dir is {root_dir}')"
   ],
   "metadata": {
    "collapsed": false
   }
  },
  {
   "cell_type": "markdown",
   "source": [
    "## Define data path"
   ],
   "metadata": {
    "collapsed": false
   }
  },
  {
   "cell_type": "code",
   "execution_count": 4,
   "outputs": [
    {
     "name": "stdout",
     "output_type": "stream",
     "text": [
      "Input data dir is /home/noone/Projects/recsys/data/external\n"
     ]
    }
   ],
   "source": [
    "# external data\n",
    "INPUT_DATA_DIR = os.environ.get(\"INPUT_DATA_DIR\", os.path.join(root_dir,\"data/external\"))\n",
    "print(f'Input data dir is {INPUT_DATA_DIR}')"
   ],
   "metadata": {
    "collapsed": false
   }
  },
  {
   "cell_type": "markdown",
   "source": [
    "## Create new random synthetic data"
   ],
   "metadata": {
    "collapsed": false
   }
  },
  {
   "cell_type": "code",
   "execution_count": 5,
   "outputs": [],
   "source": [
    "NUM_ROWS = os.environ.get(\"NUM_ROWS\", 100000)"
   ],
   "metadata": {
    "collapsed": false
   }
  },
  {
   "cell_type": "code",
   "execution_count": 6,
   "outputs": [
    {
     "name": "stdout",
     "output_type": "stream",
     "text": [
      "27.3 ms ± 505 µs per loop (mean ± std. dev. of 7 runs, 10 loops each)\n"
     ]
    }
   ],
   "source": [
    "%%timeit\n",
    "long_tailed_item_distribution = np.clip(np.random.lognormal(3., 1., int(NUM_ROWS)).astype(np.int32), 1, 50000)\n",
    "# generate random item interaction features\n",
    "df = pd.DataFrame(np.random.randint(70000, 90000, int(NUM_ROWS)), columns=['session_id'])\n",
    "df['item_id'] = long_tailed_item_distribution\n",
    "\n",
    "# generate category mapping for each item-id\n",
    "df['category'] = pd.cut(df['item_id'], bins=334, labels=np.arange(1, 335)).astype(np.int32)\n",
    "df['age_days'] = np.random.uniform(0, 1, int(NUM_ROWS)).astype(np.float32)\n",
    "df['weekday_sin']= np.random.uniform(0, 1, int(NUM_ROWS)).astype(np.float32)\n",
    "\n",
    "# generate day mapping for each session\n",
    "map_day = dict(zip(df.session_id.unique(), np.random.randint(1, 10, size=(df.session_id.nunique()))))\n",
    "df['day'] =  df.session_id.map(map_day)"
   ],
   "metadata": {
    "collapsed": false
   }
  },
  {
   "cell_type": "code",
   "execution_count": 10,
   "outputs": [
    {
     "name": "stdout",
     "output_type": "stream",
     "text": [
      "50.6 µs ± 1.29 µs per loop (mean ± std. dev. of 7 runs, 10,000 loops each)\n"
     ]
    }
   ],
   "source": [
    "%%timeit\n",
    "device=\"cuda\"\n",
    "SEED = 42\n",
    "generator = torch.Generator(device=device)\n",
    "generator.manual_seed(SEED)\n",
    "std = torch.tensor([[-0.8166, -1.3802, -0.3560]],device=device)\n",
    "data = torch.normal(mean=0., std=1., size=(1,NUM_ROWS), generator=generator, device=device, out=None)"
   ],
   "metadata": {
    "collapsed": false
   }
  },
  {
   "cell_type": "code",
   "execution_count": 8,
   "outputs": [
    {
     "name": "stdout",
     "output_type": "stream",
     "text": [
      "492 µs ± 2.25 µs per loop (mean ± std. dev. of 7 runs, 1,000 loops each)\n"
     ]
    }
   ],
   "source": [
    "%%timeit\n",
    "device=\"cpu\"\n",
    "SEED = 42\n",
    "generator = torch.Generator(device='cpu')\n",
    "generator.manual_seed(SEED)\n",
    "std = torch.tensor([[-0.8166, -1.3802, -0.3560]],device=\"cpu\")\n",
    "data = torch.normal(mean=0., std=1., size=(1,NUM_ROWS), generator=generator, device=\"cpu\", out=None)"
   ],
   "metadata": {
    "collapsed": false
   }
  },
  {
   "cell_type": "code",
   "execution_count": 11,
   "outputs": [],
   "source": [
    "device=\"cpu\"\n",
    "SEED = 42\n",
    "generator = torch.Generator(device='cpu')\n",
    "generator.manual_seed(SEED)\n",
    "std = torch.tensor([[-0.8166, -1.3802, -0.3560]],device=\"cpu\")\n",
    "data = torch.normal(mean=0., std=1., size=(1,NUM_ROWS), generator=generator, device=\"cpu\", out=None)"
   ],
   "metadata": {
    "collapsed": false
   }
  },
  {
   "cell_type": "code",
   "execution_count": 12,
   "outputs": [
    {
     "data": {
      "text/plain": "device(type='cpu')"
     },
     "execution_count": 12,
     "metadata": {},
     "output_type": "execute_result"
    }
   ],
   "source": [
    "data.device"
   ],
   "metadata": {
    "collapsed": false
   }
  },
  {
   "cell_type": "code",
   "execution_count": 14,
   "outputs": [
    {
     "data": {
      "text/plain": "torch.Size([1, 100000])"
     },
     "execution_count": 14,
     "metadata": {},
     "output_type": "execute_result"
    }
   ],
   "source": [
    "device=\"cuda\"\n",
    "SEED = 42\n",
    "generator = torch.Generator(device=device)\n",
    "generator.manual_seed(SEED)\n",
    "std = torch.tensor([[-0.8166, -1.3802, -0.3560]],device=device)\n",
    "data = torch.normal(mean=0., std=1., size=(1,NUM_ROWS), generator=generator, device=device, out=None)\n",
    "data.shape"
   ],
   "metadata": {
    "collapsed": false
   }
  },
  {
   "cell_type": "code",
   "execution_count": 15,
   "outputs": [
    {
     "data": {
      "text/plain": "device(type='cuda', index=0)"
     },
     "execution_count": 15,
     "metadata": {},
     "output_type": "execute_result"
    }
   ],
   "source": [
    "data.device"
   ],
   "metadata": {
    "collapsed": false
   }
  },
  {
   "cell_type": "code",
   "execution_count": null,
   "outputs": [],
   "source": [],
   "metadata": {
    "collapsed": false
   }
  }
 ],
 "metadata": {
  "kernelspec": {
   "display_name": "Python 3",
   "language": "python",
   "name": "python3"
  },
  "language_info": {
   "codemirror_mode": {
    "name": "ipython",
    "version": 2
   },
   "file_extension": ".py",
   "mimetype": "text/x-python",
   "name": "python",
   "nbconvert_exporter": "python",
   "pygments_lexer": "ipython2",
   "version": "2.7.6"
  }
 },
 "nbformat": 4,
 "nbformat_minor": 0
}
